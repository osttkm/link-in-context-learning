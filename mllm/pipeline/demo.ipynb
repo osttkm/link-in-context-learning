{
 "cells": [
  {
   "cell_type": "code",
   "execution_count": 1,
   "metadata": {},
   "outputs": [
    {
     "name": "stderr",
     "output_type": "stream",
     "text": [
      "/opt/miniconda3/envs/develop/lib/python3.10/site-packages/tqdm/auto.py:21: TqdmWarning: IProgress not found. Please update jupyter and ipywidgets. See https://ipywidgets.readthedocs.io/en/stable/user_install.html\n",
      "  from .autonotebook import tqdm as notebook_tqdm\n"
     ]
    }
   ],
   "source": [
    "import transformers\n"
   ]
  },
  {
   "cell_type": "code",
   "execution_count": 2,
   "metadata": {},
   "outputs": [],
   "source": [
    "tokenizer = transformers.AutoTokenizer.from_pretrained(\n",
    "        '/home/oshita/vlm/Link-Context-Learning/log',\n",
    "        cache_dir=False,\n",
    "        model_max_length=32000,\n",
    "        padding_side=\"right\",\n",
    "        use_fast=False,\n",
    "    )"
   ]
  },
  {
   "cell_type": "code",
   "execution_count": 6,
   "metadata": {},
   "outputs": [
    {
     "data": {
      "text/plain": [
       "'<s>You should find the causal relationship between the examples I am going to show you. And use that to answer to the [FINAL QUESTION]. USER: [BEGIN EXAMPLE] What is in the image <im_start> <im_patch> <im_patch> <im_patch> <im_patch> <im_patch> <im_patch> <im_end>  ? ASSISTANT: there is \"toilet seat\" in the image. [END EXAMPLE]</s><s> USER: [BEGIN EXAMPLE] What is in the image <im_start> <im_patch> <im_end>  ? ASSISTANT: there is \"hlqbu\" in the image. [END EXAMPLE]<s>[FINAL QUESTION]:  USER: From the previous examples, what do you assume is the primary object in the image <im_start> <im_patch> <im_end>  ? ASSISTANT: there is \"toilet seat\" in the image.</s><unk><unk><unk><unk><unk><unk><unk><unk><unk><unk><unk><unk><unk>'"
      ]
     },
     "execution_count": 6,
     "metadata": {},
     "output_type": "execute_result"
    }
   ],
   "source": [
    "tokenizer.decode([    1,   887,   881,  1284,   278,  3269,   284,  9443,  1546,   278,\n",
    "         6455,   306,   626,  2675,   304,  1510,   366, 29889,  1126,   671,\n",
    "          393,   304,  1234,   304,   278,   518, 29943,  1177,  1964,   660,\n",
    "         4462,  1254,  2725,  1822,  3148,  1001, 29901,   518, 29933, 17958,\n",
    "         8528, 19297,  1307, 29962,  1724,   338,   297,   278,  1967, 32001,\n",
    "        32000, 32000, 32000, 32000, 32000, 32000, 32002,  1577,   319,  1799,\n",
    "         9047, 13566, 29901,   727,   338,   376,   517,   488, 29873, 12949,\n",
    "        29908,   297,   278,  1967, 29889,   518, 11794,  8528, 19297,  1307,\n",
    "        29962,     2,     1, 29871,  3148,  1001, 29901,   518, 29933, 17958,\n",
    "         8528, 19297,  1307, 29962,  1724,   338,   297,   278,  1967, 32001,\n",
    "        32000, 32002,  1577,   319,  1799,\n",
    "         9047, 13566, 29901,   727,   338,   376,  4415, 29939,  2423, 29908,\n",
    "          297,   278,  1967, 29889,   518, 11794,  8528, 19297,  1307, 29962,\n",
    "            1,   518, 29943,  1177,  1964,   660,  4462,  1254,  2725,  5387,\n",
    "        29871,  3148,  1001, 29901,  3645,   278,  3517,  6455, 29892,   825,\n",
    "          437,   366,  5251,   338,   278,  7601,  1203,   297,   278,  1967,\n",
    "        32001, 32000, 32002,  1577,   319,\n",
    "         1799,  9047, 13566, 29901,   727,   338,   376,   517,   488, 29873,\n",
    "        12949, 29908,   297,   278,  1967, 29889,     2,     0,     0,     0,\n",
    "            0,     0,     0,     0,     0,     0,     0,     0,     0,     0])"
   ]
  },
  {
   "cell_type": "code",
   "execution_count": 6,
   "metadata": {},
   "outputs": [
    {
     "ename": "ImportError",
     "evalue": "attempted relative import with no known parent package",
     "output_type": "error",
     "traceback": [
      "\u001b[0;31m---------------------------------------------------------------------------\u001b[0m",
      "\u001b[0;31mImportError\u001b[0m                               Traceback (most recent call last)",
      "\u001b[1;32m/home/oshita/vlm/Link-Context-Learning/mllm/pipeline/demo.ipynb Cell 4\u001b[0m line \u001b[0;36m1\n\u001b[1;32m     <a href='vscode-notebook-cell://ssh-remote%2B7b22686f73744e616d65223a22613130302d34304778342d3032227d/home/oshita/vlm/Link-Context-Learning/mllm/pipeline/demo.ipynb#W3sdnNjb2RlLXJlbW90ZQ%3D%3D?line=9'>10</a>\u001b[0m \u001b[39mimport\u001b[39;00m \u001b[39mtorch\u001b[39;00m\u001b[39m.\u001b[39;00m\u001b[39mcuda\u001b[39;00m\n\u001b[1;32m     <a href='vscode-notebook-cell://ssh-remote%2B7b22686f73744e616d65223a22613130302d34304778342d3032227d/home/oshita/vlm/Link-Context-Learning/mllm/pipeline/demo.ipynb#W3sdnNjb2RlLXJlbW90ZQ%3D%3D?line=10'>11</a>\u001b[0m \u001b[39mimport\u001b[39;00m \u001b[39mtorch\u001b[39;00m\u001b[39m.\u001b[39;00m\u001b[39mdistributed\u001b[39;00m \u001b[39mas\u001b[39;00m \u001b[39mdist\u001b[39;00m\n\u001b[0;32m---> <a href='vscode-notebook-cell://ssh-remote%2B7b22686f73744e616d65223a22613130302d34304778342d3032227d/home/oshita/vlm/Link-Context-Learning/mllm/pipeline/demo.ipynb#W3sdnNjb2RlLXJlbW90ZQ%3D%3D?line=12'>13</a>\u001b[0m \u001b[39mfrom\u001b[39;00m \u001b[39m.\u001b[39;00m\u001b[39mmllm\u001b[39;00m\u001b[39m.\u001b[39;00m\u001b[39mconfig\u001b[39;00m \u001b[39mimport\u001b[39;00m prepare_args\n\u001b[1;32m     <a href='vscode-notebook-cell://ssh-remote%2B7b22686f73744e616d65223a22613130302d34304778342d3032227d/home/oshita/vlm/Link-Context-Learning/mllm/pipeline/demo.ipynb#W3sdnNjb2RlLXJlbW90ZQ%3D%3D?line=13'>14</a>\u001b[0m \u001b[39mfrom\u001b[39;00m \u001b[39m.\u001b[39;00m\u001b[39mmllm\u001b[39;00m\u001b[39m.\u001b[39;00m\u001b[39mmodels\u001b[39;00m \u001b[39mimport\u001b[39;00m load_pretrained\n\u001b[1;32m     <a href='vscode-notebook-cell://ssh-remote%2B7b22686f73744e616d65223a22613130302d34304778342d3032227d/home/oshita/vlm/Link-Context-Learning/mllm/pipeline/demo.ipynb#W3sdnNjb2RlLXJlbW90ZQ%3D%3D?line=14'>15</a>\u001b[0m \u001b[39mfrom\u001b[39;00m \u001b[39m.\u001b[39;00m\u001b[39mmllm\u001b[39;00m\u001b[39m.\u001b[39;00m\u001b[39mutils\u001b[39;00m \u001b[39mimport\u001b[39;00m print_trainable_params\n",
      "\u001b[0;31mImportError\u001b[0m: attempted relative import with no known parent package"
     ]
    }
   ],
   "source": [
    "import os\n",
    "import sys\n",
    "import logging\n",
    "import pathlib\n",
    "import typing\n",
    "import warnings\n",
    "\n",
    "SLURM_ENV = {k: v for k, v in os.environ.items() if 'SLURM' in k}\n",
    "print(f\"SLURM_ENV: {SLURM_ENV}\")\n",
    "project_path = pathlib.Path(__file__).parent.parent.parent\n",
    "print(f\"add project path: `{project_path}` to path to enable import form mllm\")\n",
    "sys.path.append(str(project_path))\n",
    "\n",
    "import torch\n",
    "import torch.cuda\n",
    "import torch.distributed as dist\n",
    "\n",
    "from mllm.config import prepare_args\n",
    "from mllm.models import load_pretrained\n",
    "from mllm.utils import print_trainable_params\n",
    "from mllm.engine import prepare_trainer_collator\n",
    "from mllm.dataset import prepare_data, smart_prepare_target_processor\n",
    "\n",
    "cfg, training_args = prepare_args()\n",
    "    \n"
   ]
  },
  {
   "cell_type": "code",
   "execution_count": null,
   "metadata": {},
   "outputs": [],
   "source": []
  }
 ],
 "metadata": {
  "kernelspec": {
   "display_name": "develop",
   "language": "python",
   "name": "python3"
  },
  "language_info": {
   "codemirror_mode": {
    "name": "ipython",
    "version": 3
   },
   "file_extension": ".py",
   "mimetype": "text/x-python",
   "name": "python",
   "nbconvert_exporter": "python",
   "pygments_lexer": "ipython3",
   "version": "3.10.10"
  }
 },
 "nbformat": 4,
 "nbformat_minor": 2
}
